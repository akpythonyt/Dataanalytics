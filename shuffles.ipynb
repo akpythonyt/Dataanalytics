{
 "cells": [
  {
   "cell_type": "code",
   "execution_count": 0,
   "metadata": {
    "application/vnd.databricks.v1+cell": {
     "cellMetadata": {
      "byteLimit": 2048000,
      "rowLimit": 10000
     },
     "inputWidgets": {},
     "nuid": "c1b4e8c6-ea9f-4a35-b7f9-f0b9ba086a12",
     "showTitle": false,
     "tableResultSettingsMap": {},
     "title": ""
    }
   },
   "outputs": [
    {
     "output_type": "stream",
     "name": "stdout",
     "output_type": "stream",
     "text": [
      "🔹 Narrow Transformation Result:\n+---+-----+------------+\n|key|value|value_plus_1|\n+---+-----+------------+\n|  a|    1|           2|\n|  b|    1|           2|\n|  a|    1|           2|\n|  b|    1|           2|\n|  c|    1|           2|\n+---+-----+------------+\n\n🔸 Wide Transformation Result:\n+---+----------+\n|key|sum(value)|\n+---+----------+\n|  a|         2|\n|  b|         2|\n|  c|         1|\n+---+----------+\n\n"
     ]
    }
   ],
   "source": [
    "from pyspark.sql import SparkSession\n",
    "from pyspark.sql.functions import col, expr\n",
    "\n",
    "# Sample data\n",
    "data = [(\"a\", 1), (\"b\", 1), (\"a\", 1), (\"b\", 1), (\"c\", 1)]\n",
    "df = spark.createDataFrame(data, [\"key\", \"value\"])\n",
    "\n",
    "# -------------------------\n",
    "# 🔹 Narrow Transformation\n",
    "# -------------------------\n",
    "mapped_df = df.withColumn(\"value_plus_1\", col(\"value\") + 1)\n",
    "\n",
    "print(\"🔹 Narrow Transformation Result:\")\n",
    "mapped_df.show()\n",
    "\n",
    "# -------------------------\n",
    "# 🔸 Wide Transformation\n",
    "# -------------------------\n",
    "reduced_df = df.groupBy(\"key\").sum(\"value\")\n",
    "\n",
    "print(\"🔸 Wide Transformation Result:\")\n",
    "reduced_df.show()\n"
   ]
  },
  {
   "cell_type": "code",
   "execution_count": 0,
   "metadata": {
    "application/vnd.databricks.v1+cell": {
     "cellMetadata": {},
     "inputWidgets": {},
     "nuid": "3f80f070-85fb-4e82-95b3-58dd85e3cb27",
     "showTitle": false,
     "tableResultSettingsMap": {},
     "title": ""
    }
   },
   "outputs": [],
   "source": []
  }
 ],
 "metadata": {
  "application/vnd.databricks.v1+notebook": {
   "computePreferences": null,
   "dashboards": [],
   "environmentMetadata": {
    "base_environment": "",
    "environment_version": "1"
   },
   "inputWidgetPreferences": null,
   "language": "python",
   "notebookMetadata": {
    "pythonIndentUnit": 4
   },
   "notebookName": "shuffles",
   "widgets": {}
  }
 },
 "nbformat": 4,
 "nbformat_minor": 0
}