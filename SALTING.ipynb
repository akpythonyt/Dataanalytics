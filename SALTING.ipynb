{
 "cells": [
  {
   "cell_type": "code",
   "execution_count": 0,
   "metadata": {
    "application/vnd.databricks.v1+cell": {
     "cellMetadata": {
      "byteLimit": 2048000,
      "rowLimit": 10000
     },
     "inputWidgets": {},
     "nuid": "541f877b-ead3-4428-ab4e-0bab9f68c708",
     "showTitle": false,
     "tableResultSettingsMap": {},
     "title": ""
    }
   },
   "outputs": [
    {
     "output_type": "display_data",
     "data": {
      "text/html": [
       "<style scoped>\n",
       "  .table-result-container {\n",
       "    max-height: 300px;\n",
       "    overflow: auto;\n",
       "  }\n",
       "  table, th, td {\n",
       "    border: 1px solid black;\n",
       "    border-collapse: collapse;\n",
       "  }\n",
       "  th, td {\n",
       "    padding: 5px;\n",
       "  }\n",
       "  th {\n",
       "    text-align: left;\n",
       "  }\n",
       "</style><div class='table-result-container'><table class='table-result'><thead style='background-color: white'><tr><th>id</th><th>count</th></tr></thead><tbody><tr><td>1</td><td>5</td></tr><tr><td>2</td><td>3</td></tr><tr><td>3</td><td>2</td></tr><tr><td>4</td><td>3</td></tr><tr><td>5</td><td>2</td></tr><tr><td>6</td><td>3</td></tr></tbody></table></div>"
      ]
     },
     "metadata": {
      "application/vnd.databricks.v1+output": {
       "addedWidgets": {},
       "aggData": [],
       "aggError": "",
       "aggOverflow": false,
       "aggSchema": [],
       "aggSeriesLimitReached": false,
       "aggType": "",
       "arguments": {},
       "columnCustomDisplayInfos": {},
       "data": [
        [
         1,
         5
        ],
        [
         2,
         3
        ],
        [
         3,
         2
        ],
        [
         4,
         3
        ],
        [
         5,
         2
        ],
        [
         6,
         3
        ]
       ],
       "datasetInfos": [],
       "dbfsResultPath": null,
       "isJsonSchema": true,
       "metadata": {},
       "overflow": false,
       "plotOptions": {
        "customPlotOptions": {},
        "displayType": "table",
        "pivotAggregation": null,
        "pivotColumns": null,
        "xColumns": null,
        "yColumns": null
       },
       "removedWidgets": [],
       "schema": [
        {
         "metadata": "{}",
         "name": "id",
         "type": "\"long\""
        },
        {
         "metadata": "{}",
         "name": "count",
         "type": "\"long\""
        }
       ],
       "type": "table"
      }
     },
     "output_type": "display_data"
    }
   ],
   "source": [
    "from pyspark.sql import SparkSession\n",
    "from pyspark.sql.functions import col, concat, lit, rand, floor, count\n",
    "\n",
    "# DataFrame \n",
    "data = [\n",
    "    (1, \"A\"), (1, \"B\"), (1, \"C\"), (1, \"D\"), (1, \"E\"), \n",
    "    (2, \"F\"), (2, \"G\"), (2, \"H\"), \n",
    "    (3, \"I\"), (3, \"J\"),  \n",
    "    (4, \"K\"), (4, \"L\"), (4, \"M\"), \n",
    "    (5, \"N\"), (5, \"O\"), \n",
    "    (6, \"P\"), (6, \"Q\"), (6, \"R\"),\n",
    "]\n",
    "\n",
    "df = spark.createDataFrame(data, [\"id\", \"value\"])\n",
    "df_before_grouped = df.groupBy(\"id\").agg(count(\"*\").alias(\"count\"))\n",
    "display(df_before_grouped)\n",
    "\n"
   ]
  },
  {
   "cell_type": "code",
   "execution_count": 0,
   "metadata": {
    "application/vnd.databricks.v1+cell": {
     "cellMetadata": {
      "byteLimit": 2048000,
      "rowLimit": 10000
     },
     "inputWidgets": {},
     "nuid": "d1814805-fa24-4ed7-9586-597828abe494",
     "showTitle": false,
     "tableResultSettingsMap": {},
     "title": ""
    }
   },
   "outputs": [
    {
     "output_type": "display_data",
     "data": {
      "text/html": [
       "<style scoped>\n",
       "  .table-result-container {\n",
       "    max-height: 300px;\n",
       "    overflow: auto;\n",
       "  }\n",
       "  table, th, td {\n",
       "    border: 1px solid black;\n",
       "    border-collapse: collapse;\n",
       "  }\n",
       "  th, td {\n",
       "    padding: 5px;\n",
       "  }\n",
       "  th {\n",
       "    text-align: left;\n",
       "  }\n",
       "</style><div class='table-result-container'><table class='table-result'><thead style='background-color: white'><tr><th>id</th><th>value</th><th>salt</th><th>salted_id</th></tr></thead><tbody><tr><td>1</td><td>A</td><td>0</td><td>1_0</td></tr><tr><td>1</td><td>B</td><td>1</td><td>1_1</td></tr><tr><td>1</td><td>C</td><td>1</td><td>1_1</td></tr><tr><td>1</td><td>D</td><td>1</td><td>1_1</td></tr><tr><td>1</td><td>E</td><td>1</td><td>1_1</td></tr><tr><td>2</td><td>F</td><td>2</td><td>2_2</td></tr><tr><td>2</td><td>G</td><td>0</td><td>2_0</td></tr><tr><td>2</td><td>H</td><td>1</td><td>2_1</td></tr><tr><td>3</td><td>I</td><td>0</td><td>3_0</td></tr><tr><td>3</td><td>J</td><td>2</td><td>3_2</td></tr><tr><td>4</td><td>K</td><td>0</td><td>4_0</td></tr><tr><td>4</td><td>L</td><td>2</td><td>4_2</td></tr><tr><td>4</td><td>M</td><td>2</td><td>4_2</td></tr><tr><td>5</td><td>N</td><td>2</td><td>5_2</td></tr><tr><td>5</td><td>O</td><td>1</td><td>5_1</td></tr><tr><td>6</td><td>P</td><td>0</td><td>6_0</td></tr><tr><td>6</td><td>Q</td><td>1</td><td>6_1</td></tr><tr><td>6</td><td>R</td><td>2</td><td>6_2</td></tr></tbody></table></div>"
      ]
     },
     "metadata": {
      "application/vnd.databricks.v1+output": {
       "addedWidgets": {},
       "aggData": [],
       "aggError": "",
       "aggOverflow": false,
       "aggSchema": [],
       "aggSeriesLimitReached": false,
       "aggType": "",
       "arguments": {},
       "columnCustomDisplayInfos": {},
       "data": [
        [
         1,
         "A",
         0,
         "1_0"
        ],
        [
         1,
         "B",
         1,
         "1_1"
        ],
        [
         1,
         "C",
         1,
         "1_1"
        ],
        [
         1,
         "D",
         1,
         "1_1"
        ],
        [
         1,
         "E",
         1,
         "1_1"
        ],
        [
         2,
         "F",
         2,
         "2_2"
        ],
        [
         2,
         "G",
         0,
         "2_0"
        ],
        [
         2,
         "H",
         1,
         "2_1"
        ],
        [
         3,
         "I",
         0,
         "3_0"
        ],
        [
         3,
         "J",
         2,
         "3_2"
        ],
        [
         4,
         "K",
         0,
         "4_0"
        ],
        [
         4,
         "L",
         2,
         "4_2"
        ],
        [
         4,
         "M",
         2,
         "4_2"
        ],
        [
         5,
         "N",
         2,
         "5_2"
        ],
        [
         5,
         "O",
         1,
         "5_1"
        ],
        [
         6,
         "P",
         0,
         "6_0"
        ],
        [
         6,
         "Q",
         1,
         "6_1"
        ],
        [
         6,
         "R",
         2,
         "6_2"
        ]
       ],
       "datasetInfos": [],
       "dbfsResultPath": null,
       "isJsonSchema": true,
       "metadata": {},
       "overflow": false,
       "plotOptions": {
        "customPlotOptions": {},
        "displayType": "table",
        "pivotAggregation": null,
        "pivotColumns": null,
        "xColumns": null,
        "yColumns": null
       },
       "removedWidgets": [],
       "schema": [
        {
         "metadata": "{}",
         "name": "id",
         "type": "\"long\""
        },
        {
         "metadata": "{}",
         "name": "value",
         "type": "\"string\""
        },
        {
         "metadata": "{}",
         "name": "salt",
         "type": "\"long\""
        },
        {
         "metadata": "{}",
         "name": "salted_id",
         "type": "\"string\""
        }
       ],
       "type": "table"
      }
     },
     "output_type": "display_data"
    }
   ],
   "source": [
    "num_salt_partitions = 3  # Number of salt values\n",
    "df_salted = df.withColumn(\"salt\", floor(rand() * num_salt_partitions)) \\\n",
    "              .withColumn(\"salted_id\", concat(col(\"id\"), lit(\"_\"), col(\"salt\")))\n",
    "df_salted.display()\n"
   ]
  },
  {
   "cell_type": "code",
   "execution_count": 0,
   "metadata": {
    "application/vnd.databricks.v1+cell": {
     "cellMetadata": {},
     "inputWidgets": {},
     "nuid": "7491d60d-1590-4412-9355-e5f8eb235cf3",
     "showTitle": false,
     "tableResultSettingsMap": {},
     "title": ""
    }
   },
   "outputs": [],
   "source": [
    "# **3️⃣ After Salting - Check New Distribution**\n",
    "df_after_grouped = df_salted.groupBy(\"salted_id\").agg(count(\"*\").alias(\"count\"))\n",
    "display(df_after_grouped)  # Databricks Bar Chart (After Salting)"
   ]
  }
 ],
 "metadata": {
  "application/vnd.databricks.v1+notebook": {
   "computePreferences": null,
   "dashboards": [],
   "environmentMetadata": {
    "base_environment": "",
    "environment_version": "1"
   },
   "inputWidgetPreferences": null,
   "language": "python",
   "notebookMetadata": {
    "pythonIndentUnit": 4
   },
   "notebookName": "SALTING",
   "widgets": {}
  }
 },
 "nbformat": 4,
 "nbformat_minor": 0
}