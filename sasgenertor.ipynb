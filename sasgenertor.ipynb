{
 "cells": [
  {
   "cell_type": "code",
   "execution_count": 0,
   "metadata": {
    "application/vnd.databricks.v1+cell": {
     "cellMetadata": {
      "byteLimit": 2048000,
      "rowLimit": 10000
     },
     "inputWidgets": {},
     "nuid": "f743cc0e-16a8-41d5-9762-659e70b58861",
     "showTitle": false,
     "tableResultSettingsMap": {},
     "title": ""
    }
   },
   "outputs": [
    {
     "output_type": "stream",
     "name": "stdout",
     "output_type": "stream",
     "text": [
      "Python interpreter will be restarted.\nCollecting azure-storage-blob\n  Downloading azure_storage_blob-12.25.1-py3-none-any.whl (406 kB)\nCollecting typing-extensions>=4.6.0\n  Downloading typing_extensions-4.13.2-py3-none-any.whl (45 kB)\nCollecting azure-core>=1.30.0\n  Downloading azure_core-1.33.0-py3-none-any.whl (207 kB)\nRequirement already satisfied: cryptography>=2.1.4 in /databricks/python3/lib/python3.9/site-packages (from azure-storage-blob) (3.4.8)\nCollecting isodate>=0.6.1\n  Downloading isodate-0.7.2-py3-none-any.whl (22 kB)\nRequirement already satisfied: six>=1.11.0 in /databricks/python3/lib/python3.9/site-packages (from azure-core>=1.30.0->azure-storage-blob) (1.16.0)\nRequirement already satisfied: requests>=2.21.0 in /databricks/python3/lib/python3.9/site-packages (from azure-core>=1.30.0->azure-storage-blob) (2.27.1)\nRequirement already satisfied: cffi>=1.12 in /databricks/python3/lib/python3.9/site-packages (from cryptography>=2.1.4->azure-storage-blob) (1.15.0)\nRequirement already satisfied: pycparser in /databricks/python3/lib/python3.9/site-packages (from cffi>=1.12->cryptography>=2.1.4->azure-storage-blob) (2.21)\nRequirement already satisfied: charset-normalizer~=2.0.0 in /databricks/python3/lib/python3.9/site-packages (from requests>=2.21.0->azure-core>=1.30.0->azure-storage-blob) (2.0.4)\nRequirement already satisfied: idna<4,>=2.5 in /databricks/python3/lib/python3.9/site-packages (from requests>=2.21.0->azure-core>=1.30.0->azure-storage-blob) (3.3)\nRequirement already satisfied: certifi>=2017.4.17 in /databricks/python3/lib/python3.9/site-packages (from requests>=2.21.0->azure-core>=1.30.0->azure-storage-blob) (2021.10.8)\nRequirement already satisfied: urllib3<1.27,>=1.21.1 in /databricks/python3/lib/python3.9/site-packages (from requests>=2.21.0->azure-core>=1.30.0->azure-storage-blob) (1.26.9)\nInstalling collected packages: typing-extensions, isodate, azure-core, azure-storage-blob\n  Attempting uninstall: typing-extensions\n    Found existing installation: typing-extensions 4.1.1\n    Not uninstalling typing-extensions at /databricks/python3/lib/python3.9/site-packages, outside environment /local_disk0/.ephemeral_nfs/envs/pythonEnv-fc8dab3a-3955-45d0-8354-4e6a1786ded4\n    Can't uninstall 'typing-extensions'. No files were found to uninstall.\nSuccessfully installed azure-core-1.33.0 azure-storage-blob-12.25.1 isodate-0.7.2 typing-extensions-4.13.2\nPython interpreter will be restarted.\n"
     ]
    }
   ],
   "source": [
    "pip install azure-storage-blob #Package installation."
   ]
  },
  {
   "cell_type": "code",
   "execution_count": 0,
   "metadata": {
    "application/vnd.databricks.v1+cell": {
     "cellMetadata": {},
     "inputWidgets": {},
     "nuid": "23ac0185-00c5-42dc-8029-588a08b2f5a1",
     "showTitle": false,
     "tableResultSettingsMap": {},
     "title": ""
    }
   },
   "outputs": [],
   "source": [
    "#pip install msal"
   ]
  },
  {
   "cell_type": "code",
   "execution_count": 0,
   "metadata": {
    "application/vnd.databricks.v1+cell": {
     "cellMetadata": {
      "byteLimit": 2048000,
      "rowLimit": 10000
     },
     "inputWidgets": {},
     "nuid": "2a291768-3503-4d81-af20-b5a0bd8f7088",
     "showTitle": false,
     "tableResultSettingsMap": {},
     "title": ""
    }
   },
   "outputs": [],
   "source": [
    "from azure.storage.blob import BlobServiceClient, generate_blob_sas, BlobSasPermissions\n",
    "from datetime import datetime, timedelta\n",
    "\n",
    "# Your Azure Storage details\n",
    "account_name = \"\" #Storage account name.\n",
    "account_key = \"\" #Storage account key \n",
    "container_name = \"\" #Storage container \n",
    "blob_name = \"\"  # or file name in Data Lake\n",
    "\n",
    "# Connection string to your Azure Storage Account\n",
    "connection_string = f\"DefaultEndpointsProtocol=https;AccountName={account_name};AccountKey={account_key};EndpointSuffix=core.windows.net\"\n",
    "\n",
    "# Initialize BlobServiceClient\n",
    "blob_service_client = BlobServiceClient.from_connection_string(connection_string)\n",
    "\n",
    "# Get the BlobClient\n",
    "blob_client = blob_service_client.get_blob_client(container=container_name, blob=blob_name)\n",
    "\n",
    "# Define SAS Token expiration time (e.g., 1 hour from now)\n",
    "expiry_time = datetime.utcnow() + timedelta(minutes=15)\n",
    "\n",
    "# Generate the SAS token with read permissions (use write, delete, etc., if needed)\n",
    "sas_token = generate_blob_sas(\n",
    "    account_name=account_name,\n",
    "    container_name=container_name,\n",
    "    blob_name=blob_name,\n",
    "    account_key=account_key,\n",
    "    permission=BlobSasPermissions(read=True),  # Set permissions as needed\n",
    "    expiry=expiry_time\n",
    ")\n",
    "\n",
    "# Construct the full URL to access the blob with SAS token\n",
    "blob_url_with_sas = f\"{blob_client.url}?{sas_token}\"\n",
    "\n",
    "print(\"Generated SAS Token URL:\", blob_url_with_sas)\n"
   ]
  },
  {
   "cell_type": "code",
   "execution_count": 0,
   "metadata": {
    "application/vnd.databricks.v1+cell": {
     "cellMetadata": {
      "byteLimit": 2048000,
      "rowLimit": 10000
     },
     "inputWidgets": {},
     "nuid": "31101228-cc9f-4817-95e4-d5f8a14d3a58",
     "showTitle": false,
     "tableResultSettingsMap": {},
     "title": ""
    }
   },
   "outputs": [],
   "source": [
    "import msal\n",
    "import requests\n",
    "\n",
    "# Azure AD details (Replace with your details)\n",
    "client_id = \"\"  # Application (client) ID\n",
    "client_secret = \"\"  # Client Secret\n",
    "tenant_id = \"\"  # Directory (tenant) ID\n",
    "\n",
    "# Set the authority URL\n",
    "authority = f\"https://login.microsoftonline.com/{tenant_id}\"\n",
    "\n",
    "# The Azure Data Factory API endpoint\n",
    "resource = \"https://management.azure.com/\"\n",
    "\n",
    "# Scopes for authentication (Azure Data Factory)\n",
    "scope = [\"https://management.azure.com/.default\"]  # This is needed for service principal authentication\n",
    "\n",
    "# Initialize the MSAL Confidential Client\n",
    "app = msal.ConfidentialClientApplication(\n",
    "    client_id,\n",
    "    client_credential=client_secret,\n",
    "    authority=authority\n",
    ")\n",
    "\n",
    "# Request a token from Azure AD\n",
    "token_response = app.acquire_token_for_client(scopes=scope)\n",
    "\n",
    "# Check if token is acquired successfully\n",
    "if \"access_token\" in token_response:\n",
    "    access_token = token_response[\"access_token\"]\n",
    "    print(\"Access Token:\", access_token)\n",
    "else:\n",
    "    print(\"Error: Failed to acquire token\")\n",
    "    print(token_response)\n"
   ]
  },
  {
   "cell_type": "code",
   "execution_count": 0,
   "metadata": {
    "application/vnd.databricks.v1+cell": {
     "cellMetadata": {
      "byteLimit": 2048000,
      "rowLimit": 10000
     },
     "inputWidgets": {},
     "nuid": "307c11f3-852b-40bb-beff-01dd4e8b4471",
     "showTitle": false,
     "tableResultSettingsMap": {},
     "title": ""
    }
   },
   "outputs": [],
   "source": [
    "# Set the Data Factory REST API URL\n",
    "subscription_id = \"\" #Subscription id\n",
    "resource_group_name = \"\"#resource group name \n",
    "data_factory_name = \"\" #asset name \n",
    "\n",
    "# API endpoint for getting pipelines\n",
    "url = f\"https://management.azure.com/subscriptions/{subscription_id}/resourceGroups/{resource_group_name}/providers/Microsoft.DataFactory/factories/{data_factory_name}/pipelines?api-version=2018-06-01\"\n",
    "\n",
    "# Headers including the access token\n",
    "headers = {\n",
    "    \"Authorization\": f\"Bearer {access_token}\",\n",
    "    \"Content-Type\": \"application/json\"\n",
    "}\n",
    "\n",
    "# Make a GET request to Azure Data Factory REST API\n",
    "response = requests.get(url, headers=headers)\n",
    "\n",
    "# Print the response (list of pipelines)\n",
    "if response.status_code == 200:\n",
    "    print(response.json())  # List of pipelines in Data Factory\n",
    "else:\n",
    "    print(f\"Error: {response.status_code}, {response.text}\")\n"
   ]
  },
  {
   "cell_type": "code",
   "execution_count": 0,
   "metadata": {
    "application/vnd.databricks.v1+cell": {
     "cellMetadata": {
      "byteLimit": 2048000,
      "rowLimit": 10000
     },
     "inputWidgets": {},
     "nuid": "737b7ca0-e123-48e0-941c-c2d8cbf9ac30",
     "showTitle": false,
     "tableResultSettingsMap": {},
     "title": ""
    }
   },
   "outputs": [],
   "source": [
    "# import msal\n",
    "# import requests\n",
    "# import time\n",
    "\n",
    "# # Azure AD details (Replace with your details)\n",
    "# client_id = \"\"\n",
    "# client_secret = \"\"\n",
    "# tenant_id = \"\"\n",
    "\n",
    "# # Authority and scope\n",
    "# authority = f\"https://login.microsoftonline.com/{tenant_id}\"\n",
    "# scope = [\"https://management.azure.com/.default\"]\n",
    "\n",
    "# # MSAL client\n",
    "# app = msal.ConfidentialClientApplication(\n",
    "#     client_id,\n",
    "#     client_credential=client_secret,\n",
    "#     authority=authority\n",
    "# )\n",
    "\n",
    "# # Function to get a new token\n",
    "# def get_access_token():\n",
    "#     token_response = app.acquire_token_for_client(scopes=scope)\n",
    "#     if \"access_token\" in token_response:\n",
    "#         access_token = token_response[\"access_token\"]\n",
    "#         expires_in = token_response[\"expires_in\"]  # usually 3600 seconds (1 hour)\n",
    "#         expires_at = time.time() + expires_in\n",
    "#         print(f\"Access token acquired. Expires in {expires_in // 60} minutes.\")\n",
    "#         return access_token, expires_at\n",
    "#     else:\n",
    "#         raise Exception(f\"Failed to acquire token: {token_response}\")\n",
    "\n",
    "# # Get initial token\n",
    "# access_token, expires_at = get_access_token()\n",
    "\n",
    "# # Refresh buffer (in seconds)\n",
    "# REFRESH_BUFFER = 5 * 60  # Refresh 5 minutes before actual expiry\n",
    "\n",
    "# # Example usage loop\n",
    "# while True:\n",
    "#     # Check if token is about to expire\n",
    "#     if time.time() >= (expires_at - REFRESH_BUFFER):\n",
    "#         print(\"Refreshing access token...\")\n",
    "#         access_token, expires_at = get_access_token()\n",
    "\n",
    "#     # --- Your logic using the access token here ---\n",
    "#     # For demo, just print token's first 10 chars\n",
    "#     print(\"Using token:\", access_token, \"...\")\n",
    "    \n",
    "#     # Simulate your app doing work every few minutes\n",
    "#     time.sleep(300)  # wait 5 mins (adjust as needed)\n"
   ]
  },
  {
   "cell_type": "code",
   "execution_count": 0,
   "metadata": {
    "application/vnd.databricks.v1+cell": {
     "cellMetadata": {},
     "inputWidgets": {},
     "nuid": "90f7e109-527b-4b33-be53-0560a2470f4f",
     "showTitle": false,
     "tableResultSettingsMap": {},
     "title": ""
    }
   },
   "outputs": [],
   "source": []
  }
 ],
 "metadata": {
  "application/vnd.databricks.v1+notebook": {
   "computePreferences": null,
   "dashboards": [],
   "environmentMetadata": {
    "base_environment": "",
    "environment_version": "1"
   },
   "inputWidgetPreferences": null,
   "language": "python",
   "notebookMetadata": {
    "pythonIndentUnit": 4
   },
   "notebookName": "sasgenertor",
   "widgets": {}
  }
 },
 "nbformat": 4,
 "nbformat_minor": 0
}