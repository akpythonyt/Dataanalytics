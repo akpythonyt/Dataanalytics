{
 "cells": [
  {
   "cell_type": "code",
   "execution_count": 0,
   "metadata": {
    "application/vnd.databricks.v1+cell": {
     "cellMetadata": {
      "byteLimit": 2048000,
      "rowLimit": 10000
     },
     "inputWidgets": {},
     "nuid": "d76e6ff0-d994-42ff-90e9-cfaf59e0f4fe",
     "showTitle": false,
     "tableResultSettingsMap": {},
     "title": ""
    }
   },
   "outputs": [
    {
     "output_type": "display_data",
     "data": {
      "text/html": [
       "<style scoped>\n",
       "  .table-result-container {\n",
       "    max-height: 300px;\n",
       "    overflow: auto;\n",
       "  }\n",
       "  table, th, td {\n",
       "    border: 1px solid black;\n",
       "    border-collapse: collapse;\n",
       "  }\n",
       "  th, td {\n",
       "    padding: 5px;\n",
       "  }\n",
       "  th {\n",
       "    text-align: left;\n",
       "  }\n",
       "</style><div class='table-result-container'><table class='table-result'><thead style='background-color: white'><tr><th>id</th><th>name</th><th>state</th><th>age</th></tr></thead><tbody><tr><td>1</td><td>Alice</td><td>NY</td><td>30</td></tr><tr><td>2</td><td>Bob</td><td>CA</td><td>25</td></tr></tbody></table></div>"
      ]
     },
     "metadata": {
      "application/vnd.databricks.v1+output": {
       "addedWidgets": {},
       "aggData": [],
       "aggError": "",
       "aggOverflow": false,
       "aggSchema": [],
       "aggSeriesLimitReached": false,
       "aggType": "",
       "arguments": {},
       "columnCustomDisplayInfos": {},
       "data": [
        [
         1,
         "Alice",
         "NY",
         30
        ],
        [
         2,
         "Bob",
         "CA",
         25
        ]
       ],
       "datasetInfos": [],
       "dbfsResultPath": null,
       "isJsonSchema": true,
       "metadata": {},
       "overflow": false,
       "plotOptions": {
        "customPlotOptions": {},
        "displayType": "table",
        "pivotAggregation": null,
        "pivotColumns": null,
        "xColumns": null,
        "yColumns": null
       },
       "removedWidgets": [],
       "schema": [
        {
         "metadata": "{}",
         "name": "id",
         "type": "\"long\""
        },
        {
         "metadata": "{}",
         "name": "name",
         "type": "\"string\""
        },
        {
         "metadata": "{}",
         "name": "state",
         "type": "\"string\""
        },
        {
         "metadata": "{}",
         "name": "age",
         "type": "\"long\""
        }
       ],
       "type": "table"
      }
     },
     "output_type": "display_data"
    }
   ],
   "source": [
    "from pyspark.sql import SparkSession\n",
    "from delta.tables import DeltaTable\n",
    "\n",
    "# Initialize Spark session with Delta support\n",
    "spark = SparkSession.builder \\\n",
    "    .appName(\"SCD1_MERGE\") \\\n",
    "    .config(\"spark.sql.extensions\", \"io.delta.sql.DeltaSparkSessionExtension\") \\\n",
    "    .config(\"spark.sql.catalog.spark_catalog\", \"org.apache.spark.sql.delta.catalog.DeltaCatalog\") \\\n",
    "    .getOrCreate()\n",
    "\n",
    "# Define Delta Table Path\n",
    "delta_path = \"/tmp/delta_dim_table\"\n",
    "\n",
    "# Sample existing dimension table (dim_table)\n",
    "dim_data = [\n",
    "    (1, \"Alice\", \"NY\", 30),\n",
    "    (2, \"Bob\", \"CA\", 25),\n",
    "]\n",
    "dim_columns = [\"id\", \"name\", \"state\", \"age\"]\n",
    "dim_table = spark.createDataFrame(dim_data, dim_columns)\n",
    "\n",
    "# Save as Delta Table\n",
    "dim_table.write.format(\"delta\").mode(\"overwrite\").save(delta_path)\n",
    "dim_table.display()\n",
    "\n"
   ]
  },
  {
   "cell_type": "code",
   "execution_count": 0,
   "metadata": {
    "application/vnd.databricks.v1+cell": {
     "cellMetadata": {
      "byteLimit": 2048000,
      "rowLimit": 10000
     },
     "inputWidgets": {},
     "nuid": "8dc39fd6-455c-497d-add9-d247e0a1286a",
     "showTitle": false,
     "tableResultSettingsMap": {},
     "title": ""
    }
   },
   "outputs": [
    {
     "output_type": "stream",
     "name": "stdout",
     "output_type": "stream",
     "text": [
      "+---+-------+-----+---+\n| id|   name|state|age|\n+---+-------+-----+---+\n|  3|Charlie|   FL| 28|\n|  1|  Alice|   TX| 31|\n|  2|    Bob|   CA| 25|\n+---+-------+-----+---+\n\n"
     ]
    }
   ],
   "source": [
    "# Sample staging table (new incoming data)\n",
    "staging_data = [\n",
    "    (1, \"Alice\", \"TX\", 31),  # Updated state and age\n",
    "    (3, \"Charlie\", \"FL\", 28) # New record\n",
    "]\n",
    "staging_table = spark.createDataFrame(staging_data, dim_columns)\n",
    "\n",
    "# Load Delta Table\n",
    "delta_dim_table = DeltaTable.forPath(spark, delta_path)\n",
    "\n",
    "# Perform MERGE (UPSERT)\n",
    "delta_dim_table.alias(\"dim\").merge(\n",
    "    staging_table.alias(\"stg\"),\n",
    "    \"dim.id = stg.id\"\n",
    ").whenMatchedUpdate(set={\n",
    "    \"dim.name\": \"stg.name\",\n",
    "    \"dim.state\": \"stg.state\",\n",
    "    \"dim.age\": \"stg.age\"\n",
    "}).whenNotMatchedInsert(values={\n",
    "    \"id\": \"stg.id\",\n",
    "    \"name\": \"stg.name\",\n",
    "    \"state\": \"stg.state\",\n",
    "    \"age\": \"stg.age\"\n",
    "}).execute()\n",
    "\n",
    "# Read and show updated Delta Table\n",
    "updated_dim_table = spark.read.format(\"delta\").load(delta_path)\n",
    "updated_dim_table.show()\n"
   ]
  },
  {
   "cell_type": "code",
   "execution_count": 0,
   "metadata": {
    "application/vnd.databricks.v1+cell": {
     "cellMetadata": {
      "byteLimit": 2048000,
      "rowLimit": 10000
     },
     "inputWidgets": {},
     "nuid": "6044d1cf-404f-4ff0-bffa-45fb0ab84d99",
     "showTitle": false,
     "tableResultSettingsMap": {},
     "title": ""
    }
   },
   "outputs": [],
   "source": [
    "from pyspark.sql import SparkSession\n",
    "from pyspark.sql.functions import current_date, lit, col\n",
    "from pyspark.sql.types import StructType, StructField, IntegerType, StringType, DateType, BooleanType\n",
    "from delta.tables import DeltaTable\n",
    "from datetime import datetime\n",
    "\n",
    "# Initialize Spark session with Delta support\n",
    "spark = SparkSession.builder \\\n",
    "    .appName(\"SCD2_MERGE\") \\\n",
    "    .config(\"spark.sql.extensions\", \"io.delta.sql.DeltaSparkSessionExtension\") \\\n",
    "    .config(\"spark.sql.catalog.spark_catalog\", \"org.apache.spark.sql.delta.catalog.DeltaCatalog\") \\\n",
    "    .config(\"spark.databricks.delta.schema.autoMerge.enabled\", \"true\") \\\n",
    "    .getOrCreate()\n",
    "\n",
    "# Define Delta Table Path\n",
    "delta_path = \"/tmp/delta_scd2_dim_table\"\n",
    "\n",
    "# Define Schema for Dimension Table (Adding SCD2 columns)\n",
    "dim_schema = StructType([\n",
    "    StructField(\"id\", IntegerType(), False),\n",
    "    StructField(\"name\", StringType(), False),\n",
    "    StructField(\"state\", StringType(), False),\n",
    "    StructField(\"age\", IntegerType(), False),\n",
    "    StructField(\"effective_date\", DateType(), False),\n",
    "    StructField(\"end_date\", DateType(), True),  # Nullable for active records\n",
    "    StructField(\"is_active\", BooleanType(), False)\n",
    "])\n",
    "\n",
    "# Convert string dates to actual `datetime.date` objects\n",
    "def to_date(date_str):\n",
    "    return datetime.strptime(date_str, \"%Y-%m-%d\").date() if date_str else None\n",
    "\n",
    "# Sample existing dimension table (dim_table) with correct date format\n",
    "dim_data = [\n",
    "    (1, \"Alice\", \"NY\", 30, to_date(\"2023-01-01\"), None, True),\n",
    "    (2, \"Bob\", \"CA\", 25, to_date(\"2023-02-01\"), None, True),\n",
    "]\n",
    "dim_table = spark.createDataFrame(dim_data, schema=dim_schema)\n",
    "\n",
    "# Save as Delta Table (initial load)\n",
    "dim_table.write.format(\"delta\").mode(\"overwrite\").save(delta_path)\n",
    "\n"
   ]
  },
  {
   "cell_type": "code",
   "execution_count": 0,
   "metadata": {
    "application/vnd.databricks.v1+cell": {
     "cellMetadata": {
      "byteLimit": 2048000,
      "rowLimit": 10000
     },
     "inputWidgets": {},
     "nuid": "ead96e27-5726-47b8-b74f-b36878f91a38",
     "showTitle": false,
     "tableResultSettingsMap": {},
     "title": ""
    }
   },
   "outputs": [
    {
     "output_type": "stream",
     "name": "stdout",
     "output_type": "stream",
     "text": [
      "+---+-------+-----+---+---------+--------------+----------+\n| id|   name|state|age|is_active|effective_date|  end_date|\n+---+-------+-----+---+---------+--------------+----------+\n|  1|  Alice|   NY| 30|    false|    2023-01-01|2025-03-21|\n|  3|Charlie|   FL| 28|     true|    2025-03-21|      null|\n|  1|  Alice|   TX| 31|     true|    2025-03-21|      null|\n|  2|    Bob|   CA| 25|     true|    2023-02-01|      null|\n+---+-------+-----+---+---------+--------------+----------+\n\n"
     ]
    }
   ],
   "source": [
    "# Sample staging table (new incoming data)\n",
    "staging_data = [\n",
    "    (1, \"Alice\", \"TX\", 31),  # Changed state and age\n",
    "    (3, \"Charlie\", \"FL\", 28) # New record\n",
    "]\n",
    "\n",
    "# Create staging DataFrame and explicitly match schema types\n",
    "staging_table = spark.createDataFrame(staging_data, [\"id\", \"name\", \"state\", \"age\"]) \\\n",
    "    .withColumn(\"id\", col(\"id\").cast(IntegerType()))\\\n",
    "    .withColumn(\"age\", col(\"age\").cast(IntegerType()))\\\n",
    "    .withColumn(\"effective_date\", current_date().cast(DateType()))\\\n",
    "    .withColumn(\"end_date\", lit(None).cast(DateType()))\\\n",
    "    .withColumn(\"is_active\", lit(True).cast(BooleanType()))\n",
    "\n",
    "# Load Delta Table\n",
    "delta_dim_table = DeltaTable.forPath(spark, delta_path)\n",
    "\n",
    "# Step 1: Mark existing records as inactive if ID exists in staging\n",
    "delta_dim_table.alias(\"dim\").merge(\n",
    "    staging_table.alias(\"stg\"),\n",
    "    \"dim.id = stg.id AND dim.is_active = True\"\n",
    ").whenMatchedUpdate(set={\n",
    "    \"end_date\": current_date(),\n",
    "    \"is_active\": lit(False)  # Mark old record as inactive\n",
    "}).execute()\n",
    "\n",
    "# Step 2: Insert new records (both new and updated versions)\n",
    "staging_table.write.format(\"delta\").mode(\"append\").save(delta_path)\n",
    "\n",
    "# Read and show updated Delta Table\n",
    "updated_dim_table = spark.read.format(\"delta\").load(delta_path)\n",
    "updated_dim_table.show()\n"
   ]
  },
  {
   "cell_type": "code",
   "execution_count": 0,
   "metadata": {
    "application/vnd.databricks.v1+cell": {
     "cellMetadata": {},
     "inputWidgets": {},
     "nuid": "1793331b-e86f-4e9d-9120-dfdd41751490",
     "showTitle": false,
     "tableResultSettingsMap": {},
     "title": ""
    }
   },
   "outputs": [],
   "source": []
  }
 ],
 "metadata": {
  "application/vnd.databricks.v1+notebook": {
   "computePreferences": null,
   "dashboards": [],
   "environmentMetadata": {
    "base_environment": "",
    "environment_version": "1"
   },
   "inputWidgetPreferences": null,
   "language": "python",
   "notebookMetadata": {
    "pythonIndentUnit": 4
   },
   "notebookName": "SCD's",
   "widgets": {}
  }
 },
 "nbformat": 4,
 "nbformat_minor": 0
}
